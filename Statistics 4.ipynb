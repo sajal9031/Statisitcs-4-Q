{
 "cells": [
  {
   "cell_type": "markdown",
   "id": "a7ad4246-aa11-4320-8a35-e0a0ebfd548a",
   "metadata": {},
   "source": [
    "1. What are the Probability Mass Function (PMF) and Probability Density Function (PDF)? Explain with\n",
    "an example."
   ]
  },
  {
   "cell_type": "markdown",
   "id": "0f3c3288-6be0-41f7-96de-c32e286e8e7a",
   "metadata": {},
   "source": [
    "1.  The Probability Mass Function (PMF) and Probability Density Function (PDF) are two important concepts in probability theory that are used to describe the probability distribution of a random variable.\n",
    "\n",
    "The Probability Mass Function (PMF) is used to describe the probability distribution of a discrete random variable. It gives the probability of each possible value of the random variable. The PMF is defined as follows:\n",
    "\n",
    "For a discrete random variable X with possible values x1, x2, x3, ..., the PMF is given by:\n",
    "\n",
    "P(X = xi) = pi\n",
    "\n",
    "where pi is the probability of the random variable taking on the value xi.\n",
    "\n",
    "For example, let's say we are interested in the number of heads obtained when flipping a fair coin three times. The possible values of the random variable X are 0, 1, 2, and 3. The PMF for this random variable is:\n",
    "\n",
    "P(X = 0) = 1/8\n",
    "P(X = 1) = 3/8\n",
    "P(X = 2) = 3/8\n",
    "P(X = 3) = 1/8\n",
    "\n",
    "Here, the sum of all probabilities is equal to 1, as expected.\n",
    "\n",
    "\n",
    "\n",
    "2.  On the other hand, the Probability Density Function (PDF) is used to describe the probability distribution of a continuous random variable. It gives the probability of a range of values that the random variable can take on. The PDF is defined as follows:\n",
    "\n",
    "For a continuous random variable X with a range of possible values between a and b, the PDF is given by:\n",
    "\n",
    "f(x) = P(X = x)\n",
    "\n",
    "where f(x) is the probability density function.\n",
    "\n",
    "For example, let's say we are interested in the time taken to complete a task. The possible values of the random variable X are all the real numbers between 0 and infinity. The PDF for this random variable can be a normal distribution with a mean of 10 and a standard deviation of 2:\n",
    "\n",
    "f(x) = (1/(2sqrt(2pi)))exp(-(x-10)^2/(22^2))\n",
    "\n",
    "Here, the area under the curve of the PDF between any two values a and b gives the probability that the random variable X takes on a value between a and b."
   ]
  },
  {
   "cell_type": "code",
   "execution_count": null,
   "id": "50280810-2b11-47e0-8121-0765df9877b1",
   "metadata": {},
   "outputs": [],
   "source": []
  },
  {
   "cell_type": "markdown",
   "id": "21a859a8-ee83-4e1d-8acc-8eebf7c79cbc",
   "metadata": {},
   "source": [
    "2. What is Cumulative Density Function (CDF)? Explain with an example. Why CDF is used?"
   ]
  },
  {
   "cell_type": "markdown",
   "id": "fa3db3fb-bd4f-480c-8f61-e1651edf143c",
   "metadata": {},
   "source": [
    "The Cumulative Density Function (CDF) is a function that describes the probability that a random variable takes on a value less than or equal to a given value. In other words, it is the integral of the Probability Density Function (PDF) or the sum of the Probability Mass Function (PMF) up to a certain point. The CDF is defined for both continuous and discrete random variables.\n",
    "\n",
    "For a continuous random variable X, the CDF is defined as follows:\n",
    "\n",
    "F(x) = P(X <= x) = ∫f(t) dt from -infinity to x\n",
    "\n",
    "where f(x) is the PDF of the random variable X.\n",
    "\n",
    "For a discrete random variable X, the CDF is defined as follows:\n",
    "\n",
    "F(x) = P(X <= x) = ∑P(x) from -infinity to x\n",
    "\n",
    "where P(x) is the PMF of the random variable X.\n",
    "\n",
    "The CDF can be used to calculate probabilities associated with the random variable X. For example, the probability that X takes on a value between a and b is given by:\n",
    "\n",
    "P(a <= X <= b) = F(b) - F(a)\n",
    "\n",
    "The CDF is also used to calculate percentiles of a distribution. The k-th percentile of a distribution is the value x such that k% of the observations fall below x. This can be calculated by finding the value x such that F(x) = k/100.\n",
    "\n",
    "Let's consider an example to understand the concept of CDF. Suppose we have a continuous random variable X that follows a normal distribution with mean 5 and standard deviation 2. The PDF of X is given by:\n",
    "\n",
    "f(x) = (1/(2sqrt(2pi)))exp(-(x-5)^2/(22^2))\n",
    "\n",
    "To find the CDF of X, we need to integrate the PDF from -infinity to x. The resulting CDF for X is:\n",
    "\n",
    "F(x) = (1/2)(1 + erf((x-5)/(2sqrt(2))))\n",
    "\n",
    "where erf is the error function. This function gives the probability that X takes on a value less than or equal to a given value x.\n",
    "\n",
    "For example, let's calculate the probability that X takes on a value less than or equal to 6. The CDF at x=6 is:\n",
    "\n",
    "F(6) = (1/2)(1 + erf((6-5)/(2sqrt(2)))) = 0.758\n",
    "\n",
    "Therefore, the probability that X takes on a value less than or equal to 6 is 0.758 or 75.8%. We can also use the CDF to calculate percentiles of the distribution. For example, the 25th percentile of the distribution can be found by solving the equation F(x) = 0.25, which gives x=3.29. This means that 25% of the observations fall below 3.29 in this distribution."
   ]
  },
  {
   "cell_type": "code",
   "execution_count": null,
   "id": "91f76a06-6e39-45b9-a114-4a712f95c662",
   "metadata": {},
   "outputs": [],
   "source": []
  },
  {
   "cell_type": "markdown",
   "id": "c6f1c22e-3c3f-4583-926a-b2cc8f96e8ce",
   "metadata": {},
   "source": [
    "3. What are some examples of situations where the normal distribution might be used as a model?\n",
    "Explain how the parameters of the normal distribution relate to the shape of the distribution."
   ]
  },
  {
   "cell_type": "markdown",
   "id": "b0b8e6a8-55c8-4848-93d6-2b0477c352ad",
   "metadata": {},
   "source": [
    "The normal distribution, also known as the Gaussian distribution, is a probability distribution that is widely used in statistical analysis to model a variety of real-world phenomena. The normal distribution is characterized by its bell-shaped curve and is used when the data follow a symmetrical and continuous distribution.\n",
    "\n",
    "Here are some examples of situations where the normal distribution might be used as a model:\n",
    "\n",
    "Heights and weights of people: The normal distribution can be used to model the distribution of heights and weights of people in a population.\n",
    "\n",
    "Test scores: The normal distribution can be used to model the distribution of test scores for a large population of students.\n",
    "\n",
    "IQ scores: The normal distribution can be used to model the distribution of IQ scores in a population.\n",
    "\n",
    "Errors in measurements: The normal distribution can be used to model the distribution of errors in measurements such as temperature, weight, or pressure.\n",
    "\n",
    "Financial returns: The normal distribution can be used to model the distribution of financial returns for a portfolio of assets.\n",
    "\n",
    "The normal distribution is characterized by two parameters: the mean (μ) and the standard deviation (σ). The mean represents the center of the distribution, while the standard deviation represents the spread of the distribution.\n",
    "\n",
    "The shape of the normal distribution is determined by the values of the mean and the standard deviation. The mean determines the location of the peak of the curve, while the standard deviation determines the spread of the curve. A larger standard deviation results in a wider and flatter curve, while a smaller standard deviation results in a narrower and taller curve.\n",
    "\n",
    "The area under the normal curve between any two points represents the probability that a random variable falls between those two points. The total area under the curve is equal to 1, which means that the probability of any possible value of the random variable is 1.\n",
    "\n",
    "In summary, the normal distribution is a useful tool for modeling many real-world phenomena that follow a symmetrical and continuous distribution. The mean and standard deviation parameters of the normal distribution are important in determining the shape and spread of the distribution."
   ]
  },
  {
   "cell_type": "code",
   "execution_count": null,
   "id": "46287cb3-07d8-4106-99e3-1295aa4e6492",
   "metadata": {},
   "outputs": [],
   "source": []
  },
  {
   "cell_type": "markdown",
   "id": "9e8cd077-d035-476d-ae59-ce8da2f3a387",
   "metadata": {},
   "source": [
    "4. Explain the importance of Normal Distribution. Give a few real-life examples of Normal\n",
    "   Distribution."
   ]
  },
  {
   "cell_type": "markdown",
   "id": "45b3f8e4-1926-41f7-8140-74850790251e",
   "metadata": {},
   "source": [
    "The normal distribution is an important probability distribution in statistics and data analysis. It is a continuous probability distribution that is used to model many natural and social phenomena that exhibit normal variation around a central mean value. The importance of normal distribution can be understood from the following points:\n",
    "\n",
    "Approximation of many distributions: The normal distribution has a wide range of applications in science, engineering, and social sciences. It is often used as an approximation to model many natural and social phenomena, where a variable is influenced by multiple independent and dependent factors, such as biological measurements, physical measurements, economic data, and social behaviors.\n",
    "\n",
    "Central limit theorem: The normal distribution is a key concept in the central limit theorem, which states that if the sample size is large enough, then the distribution of the sample means tends to follow the normal distribution, regardless of the underlying distribution of the population. This makes the normal distribution an important tool for inference and hypothesis testing.\n",
    "\n",
    "Statistical inference: The normal distribution plays a crucial role in statistical inference, where it is used to construct confidence intervals, conduct hypothesis tests, and estimate parameters of statistical models.\n",
    "\n",
    "Here are some real-life examples of normal distribution:\n",
    "\n",
    "Human height and weight: The distribution of human height and weight follows a normal distribution, with the majority of the population falling around the mean height and weight, and fewer individuals at the extremes.\n",
    "\n",
    "IQ scores: IQ scores follow a normal distribution, with the majority of the population having an average IQ, and fewer individuals at the high and low ends of the distribution.\n",
    "\n",
    "Stock market returns: The daily returns of the stock market follow a normal distribution, with a mean return around zero, and a standard deviation that reflects the volatility of the market.\n",
    "\n",
    "Grades on a test: The grades on a test in a large class may follow a normal distribution, with most students scoring around the mean grade, and a smaller number of students scoring at the high and low ends of the distribution.\n",
    "\n",
    "Blood pressure: The distribution of blood pressure in a population can be approximated by a normal distribution, with a mean value around 120/80 mmHg and a standard deviation of around 10-15 mmHg.\n",
    "\n",
    "In conclusion, the normal distribution is an important statistical concept that is used to model many natural and social phenomena. Its properties and applications make it a fundamental tool for data analysis and inference."
   ]
  },
  {
   "cell_type": "code",
   "execution_count": null,
   "id": "c19864c8-3a95-4ca8-bf7f-7523044d5407",
   "metadata": {},
   "outputs": [],
   "source": []
  },
  {
   "cell_type": "markdown",
   "id": "4a9ec288-6e49-40b1-a4ed-0ae1c4873657",
   "metadata": {},
   "source": [
    "5. What is Bernaulli Distribution? Give an Example. What is the difference between Bernoulli\n",
    "Distribution and Binomial Distribution?"
   ]
  },
  {
   "cell_type": "markdown",
   "id": "5f2799ac-e199-449c-9bf3-831c0d8b5043",
   "metadata": {},
   "source": [
    "The Bernoulli distribution is a discrete probability distribution that models the outcome of a single trial of a binary experiment that can result in either success or failure. It is named after Swiss mathematician Jakob Bernoulli, who first studied it in the 17th century. The Bernoulli distribution has only one parameter, which is the probability of success (p) on a single trial.\n",
    "\n",
    "An example of a Bernoulli trial is flipping a coin, where the outcome can be heads (success) or tails (failure). Another example is rolling a die and getting a specific number as the success outcome.\n",
    "\n",
    "The probability mass function (PMF) of the Bernoulli distribution is given by:\n",
    "\n",
    "P(X = k) = p^k(1-p)^(1-k) for k = 0,1\n",
    "\n",
    "Where X is a random variable that takes on values 0 or 1, and k represents the outcome of a single trial, either 0 or 1.\n",
    "\n",
    "The difference between the Bernoulli distribution and the binomial distribution is that the Bernoulli distribution models the outcome of a single trial, whereas the binomial distribution models the outcome of a fixed number of independent Bernoulli trials. In other words, the binomial distribution is the sum of independent Bernoulli trials.\n",
    "\n",
    "An example of a binomial distribution is flipping a coin multiple times, or rolling a die multiple times and counting the number of times a specific number is rolled. The binomial distribution has two parameters, which are the number of trials (n) and the probability of success on a single trial (p).\n",
    "\n",
    "The probability mass function (PMF) of the binomial distribution is given by:\n",
    "\n",
    "P(X = k) = (n choose k) * p^k * (1-p)^(n-k) for k = 0,1,2,...,n\n",
    "\n",
    "Where X is a random variable that takes on values from 0 to n, k represents the number of successes in n trials, (n choose k) is the binomial coefficient, which is the number of ways to choose k objects from n objects, and p is the probability of success on a single trial.\n",
    "\n",
    "In summary, the Bernoulli distribution models the outcome of a single trial of a binary experiment, while the binomial distribution models the outcome of a fixed number of independent Bernoulli trials. The Bernoulli distribution has only one parameter, while the binomial distribution has two parameters."
   ]
  },
  {
   "cell_type": "code",
   "execution_count": null,
   "id": "67256d80-4148-427f-aaa7-12d20c66213c",
   "metadata": {},
   "outputs": [],
   "source": []
  },
  {
   "cell_type": "markdown",
   "id": "2c5a0c2d-7042-4d40-8f19-d8531767c030",
   "metadata": {},
   "source": [
    "Consider a dataset with a mean of 50 and a standard deviation of 10. If we assume that the dataset\n",
    "is normally distributed, what is the probability that a randomly selected observation will be greater\n",
    "than 60? Use the appropriate formula and show your calculations."
   ]
  },
  {
   "cell_type": "markdown",
   "id": "411a3960-485f-47bb-b6cf-e74e344a4b90",
   "metadata": {},
   "source": [
    "Given that the dataset has a mean (μ) of 50 and a standard deviation (σ) of 10, we can assume that the distribution of the dataset is normal. We need to find the probability of a randomly selected observation being greater than 60.\n",
    "\n",
    "To solve this problem, we can use the standard normal distribution, which is a normal distribution with a mean of 0 and a standard deviation of 1. We can convert the given values to the standard normal distribution by using the z-score formula:\n",
    "\n",
    "z = (x - μ) / σ\n",
    "\n",
    "where x is the value we want to convert to a z-score, μ is the mean of the distribution, and σ is the standard deviation of the distribution.\n",
    "\n",
    "In this case, we want to find the z-score corresponding to x = 60:\n",
    "\n",
    "z = (60 - 50) / 10 = 1\n",
    "\n",
    "Now, we can use a standard normal distribution table or a calculator to find the probability of a z-score greater than 1. From a standard normal distribution table, we find that the probability of a z-score greater than 1 is approximately 0.1587.\n",
    "\n",
    "Therefore, the probability of a randomly selected observation from the given dataset being greater than 60 is approximately 0.1587 or 15.87% (rounded to two decimal places).\n",
    "\n",
    "\n",
    "\n"
   ]
  },
  {
   "cell_type": "code",
   "execution_count": null,
   "id": "9e4bd312-e50e-430e-bd77-88b19ba859cf",
   "metadata": {},
   "outputs": [],
   "source": []
  },
  {
   "cell_type": "markdown",
   "id": "6a816806-4a93-4451-9b5c-0f2fdb185a82",
   "metadata": {},
   "source": [
    "7. Explain uniform Distribution with an example."
   ]
  },
  {
   "cell_type": "markdown",
   "id": "4b137b70-7669-4727-8270-f26e0a08fb7e",
   "metadata": {},
   "source": [
    "The uniform distribution is a continuous probability distribution that has a constant probability density function (PDF) over a specific interval. This means that all values within the interval have an equal chance of being observed.\n",
    "\n",
    "An example of the uniform distribution is rolling a fair six-sided die. The possible outcomes of rolling the die are the integers 1, 2, 3, 4, 5, and 6, each with an equal probability of 1/6. This means that the PDF of the uniform distribution for rolling a fair six-sided die is given by:\n",
    "\n",
    "f(x) = 1/6, for x = 1, 2, 3, 4, 5, 6\n",
    "\n",
    "This PDF shows that each possible outcome of rolling the die has an equal probability of 1/6.\n",
    "\n",
    "Another example of the uniform distribution is selecting a random number between a and b, where a and b are two fixed values. The PDF of the uniform distribution for this case is given by:\n",
    "\n",
    "f(x) = 1 / (b - a), for a ≤ x ≤ b\n",
    "\n",
    "This means that any number between a and b has an equal probability of being selected.\n",
    "\n",
    "The uniform distribution is used in various applications, such as random number generation and simulation studies."
   ]
  },
  {
   "cell_type": "code",
   "execution_count": null,
   "id": "6a02a506-19f6-44c8-9fd5-dd39f1443b55",
   "metadata": {},
   "outputs": [],
   "source": []
  },
  {
   "cell_type": "markdown",
   "id": "eac8ff68-2a12-4c04-93ea-7ad167bf8342",
   "metadata": {},
   "source": [
    "8. What is the z score? State the importance of the z score."
   ]
  },
  {
   "cell_type": "markdown",
   "id": "f75bc607-3eb6-4c46-a361-80947dac7619",
   "metadata": {},
   "source": [
    "A z-score, also known as a standard score, is a measure of how many standard deviations a data point is from the mean of a distribution. It is calculated by subtracting the mean from the data point and then dividing the difference by the standard deviation. Mathematically, the formula for z-score is:\n",
    "\n",
    "z = (x - μ) / σ\n",
    "\n",
    "where x is the data point, μ is the mean of the distribution, and σ is the standard deviation of the distribution.\n",
    "\n",
    "The z-score can be positive, negative, or zero, depending on the location of the data point relative to the mean. If the z-score is positive, the data point is above the mean, and if it is negative, the data point is below the mean. A z-score of zero means that the data point is equal to the mean.\n",
    "\n",
    "The importance of the z-score lies in its ability to standardize a dataset and enable comparison of data points from different distributions. By converting data points to their respective z-scores, we can compare data points from different distributions on a common scale. This makes it possible to make meaningful comparisons and draw conclusions about the data.\n",
    "\n",
    "The z-score is widely used in statistical analysis, hypothesis testing, and quality control processes. It is also used to identify outliers in a dataset and determine if they are statistically significant."
   ]
  },
  {
   "cell_type": "code",
   "execution_count": null,
   "id": "f17190c1-9ea8-41c2-b9f2-c4c637aac6a7",
   "metadata": {},
   "outputs": [],
   "source": []
  },
  {
   "cell_type": "markdown",
   "id": "8fc045f9-931e-4aac-a301-bd5e38e97df1",
   "metadata": {},
   "source": [
    "9. What is Central Limit Theorem? State the significance of the Central Limit Theorem."
   ]
  },
  {
   "cell_type": "markdown",
   "id": "590cbf9f-4124-4336-9d36-82a62399b8c4",
   "metadata": {},
   "source": [
    "The Central Limit Theorem (CLT) is a fundamental concept in statistics that states that, regardless of the underlying distribution, the sample mean of a large number of independent and identically distributed (iid) random variables will be approximately normally distributed.\n",
    "\n",
    "Specifically, the CLT states that as the sample size increases, the distribution of the sample means will approach a normal distribution with a mean equal to the population mean and a standard deviation equal to the population standard deviation divided by the square root of the sample size.\n",
    "\n",
    "The significance of the CLT lies in its ability to provide a way to estimate population parameters and make inferences about a population based on a sample. The CLT makes it possible to use the normal distribution as a model for sample means, even if the underlying distribution of the population is not normal.\n",
    "\n",
    "The CLT is widely used in statistical inference, hypothesis testing, and confidence interval estimation. It also has practical applications in many fields, including finance, engineering, and social sciences.\n",
    "\n",
    "In summary, the CLT is an important concept in statistics that enables us to use sample statistics to make inferences about a population, even if the underlying distribution is unknown. It provides a powerful tool for analyzing data and making predictions in a wide range of fields."
   ]
  },
  {
   "cell_type": "code",
   "execution_count": null,
   "id": "3d504c7b-39c1-4101-9f84-1439e9f2b439",
   "metadata": {},
   "outputs": [],
   "source": []
  },
  {
   "cell_type": "markdown",
   "id": "03274ff7-27b6-4de6-8586-6dfe3d376246",
   "metadata": {},
   "source": [
    "10. State the assumptions of the Central Limit Theorem."
   ]
  },
  {
   "cell_type": "markdown",
   "id": "807d304b-2168-4067-8eaf-a34f0f14dbea",
   "metadata": {},
   "source": [
    "The Central Limit Theorem (CLT) has certain assumptions that need to be met for it to be applicable. These assumptions are:\n",
    "\n",
    "Independence: The observations in the sample should be independent of each other. This means that the outcome of one observation should not influence the outcome of another.\n",
    "\n",
    "Identically distributed: The observations in the sample should be drawn from the same distribution. This means that the population should have the same mean and standard deviation.\n",
    "\n",
    "Sample size: The sample size should be large enough. Although there is no fixed rule for what constitutes a \"large\" sample size, a common rule of thumb is that the sample size should be greater than 30.\n",
    "\n",
    "Finite variance: The population should have a finite variance. This means that the variance should not be infinite or undefined.\n",
    "\n",
    "It is important to note that if these assumptions are not met, the CLT may not hold, and other methods may be necessary for statistical inference. Additionally, while the CLT provides a useful approximation for many real-world situations, it is not always exact and may not hold in certain cases. Therefore, it is important to exercise caution and use other statistical methods to confirm the results obtained from the CLT."
   ]
  },
  {
   "cell_type": "code",
   "execution_count": null,
   "id": "0a9ca629-d083-44cd-8f3a-54b90d14d1c0",
   "metadata": {},
   "outputs": [],
   "source": []
  }
 ],
 "metadata": {
  "kernelspec": {
   "display_name": "Python 3 (ipykernel)",
   "language": "python",
   "name": "python3"
  },
  "language_info": {
   "codemirror_mode": {
    "name": "ipython",
    "version": 3
   },
   "file_extension": ".py",
   "mimetype": "text/x-python",
   "name": "python",
   "nbconvert_exporter": "python",
   "pygments_lexer": "ipython3",
   "version": "3.10.8"
  }
 },
 "nbformat": 4,
 "nbformat_minor": 5
}
